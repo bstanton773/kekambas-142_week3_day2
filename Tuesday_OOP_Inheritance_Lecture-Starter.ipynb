{
 "cells": [
  {
   "cell_type": "markdown",
   "metadata": {},
   "source": [
    "# Object-Oriented-Programming (OOP)"
   ]
  },
  {
   "cell_type": "markdown",
   "metadata": {},
   "source": [
    "## Tasks Today:\n",
    "\n",
    "   \n",
    "1) <b>Dunder Methods</b> <br>\n",
    " &nbsp;&nbsp;&nbsp;&nbsp; a) The \\__str\\__() Method <br>\n",
    " &nbsp;&nbsp;&nbsp;&nbsp; b) The \\__repr\\__() Method <br>\n",
    " &nbsp;&nbsp;&nbsp;&nbsp; c) Other Magic Methods <br>\n",
    " &nbsp;&nbsp;&nbsp;&nbsp; d) In-Class Exercise #1 - Create a class Animal that displays the species and animal name when printed <br>  \n",
    "2) <b>Inheritance</b> <br>\n",
    " &nbsp;&nbsp;&nbsp;&nbsp; a) Syntax for Inheriting from a Parent Class <br>\n",
    " &nbsp;&nbsp;&nbsp;&nbsp; b) The \\__init\\__() Method for a Child Class (super()) <br>\n",
    " &nbsp;&nbsp;&nbsp;&nbsp; c) Defining Attributes and Methods for the Child Class <br>\n",
    " &nbsp;&nbsp;&nbsp;&nbsp; d) Method Overriding <br>\n",
    " &nbsp;&nbsp;&nbsp;&nbsp; e) In-Class Exercise #2 - Create a class 'Ford' that inherits from 'Car' class and initialize it as a Blue Ford Explorer with 4 wheels using the super() method <br>\n",
    "3) <b>Modules</b> <br>\n",
    " &nbsp;&nbsp;&nbsp;&nbsp; a) Importing Modules<br>\n",
    " &nbsp;&nbsp;&nbsp;&nbsp; b) Importing from modules <br>\n",
    " &nbsp;&nbsp;&nbsp;&nbsp; c) Aliasing <br>\n",
    " &nbsp;&nbsp;&nbsp;&nbsp; d) Creating Modules <br>\n"
   ]
  },
  {
   "cell_type": "markdown",
   "metadata": {},
   "source": [
    "### Warm Up"
   ]
  },
  {
   "cell_type": "markdown",
   "metadata": {},
   "source": [
    "Create a class for a Book that has instance attributes for `title`, `author`, `num_of_pages`, and `price`. Each book instance should also have a `current_page` attribute that starts at 0. Add a method called `read` that takes in number of pages. The method should update the what the current page is. If the `current_page` goes over the `num_of_pages`, print that the book is finished and reset the `current_page` to 0"
   ]
  },
  {
   "cell_type": "code",
   "execution_count": 11,
   "metadata": {},
   "outputs": [],
   "source": [
    "class Book:\n",
    "    def __init__(self, title, author, num_of_pages, price, current_page=0):\n",
    "        self.title = title\n",
    "        self.author = author\n",
    "        self.num_of_pages = num_of_pages\n",
    "        self.price = price\n",
    "        self.current_page = current_page\n",
    "        print(f\"Congrats on purchasing {title} by {author} for ${price:.2f}\")\n",
    "        \n",
    "    def read(self, num_pages):\n",
    "        self.current_page += num_pages\n",
    "        if self.current_page >= self.num_of_pages:\n",
    "            print(f\"Congrats on finishing {self.title}\")\n",
    "            self.current_page = 0\n",
    "        else:\n",
    "            print(f\"You are currently on page {self.current_page} of {self.title}. \\\n",
    "There are {self.num_of_pages - self.current_page} pages left\")"
   ]
  },
  {
   "cell_type": "code",
   "execution_count": 12,
   "metadata": {},
   "outputs": [
    {
     "name": "stdout",
     "output_type": "stream",
     "text": [
      "Congrats on purchasing The Midnight Library by Matt Haig for $26.00\n",
      "You are currently on page 45 of The Midnight Library. There are 243 pages left\n",
      "You are currently on page 104 of The Midnight Library. There are 184 pages left\n",
      "You are currently on page 146 of The Midnight Library. There are 142 pages left\n",
      "You are currently on page 230 of The Midnight Library. There are 58 pages left\n",
      "Congrats on finishing The Midnight Library\n"
     ]
    }
   ],
   "source": [
    "book = Book(\"The Midnight Library\", \"Matt Haig\", 288, 26.00)\n",
    "book.read(45)\n",
    "book.read(59)\n",
    "book.read(42)\n",
    "book.read(84)\n",
    "book.read(62)"
   ]
  },
  {
   "cell_type": "code",
   "execution_count": 13,
   "metadata": {},
   "outputs": [
    {
     "data": {
      "text/plain": [
       "0"
      ]
     },
     "execution_count": 13,
     "metadata": {},
     "output_type": "execute_result"
    }
   ],
   "source": [
    "book.current_page"
   ]
  },
  {
   "cell_type": "code",
   "execution_count": 14,
   "metadata": {},
   "outputs": [
    {
     "name": "stdout",
     "output_type": "stream",
     "text": [
      "Congrats on purchasing Harry Potter by JK Rowling for $19.99\n",
      "You are currently on page 123 of Harry Potter. There are 644 pages left\n",
      "You are currently on page 444 of Harry Potter. There are 323 pages left\n",
      "Congrats on finishing Harry Potter\n"
     ]
    }
   ],
   "source": [
    "book2 = Book('Harry Potter', 'JK Rowling', 767, 19.99)\n",
    "book2.read(123)\n",
    "book2.read(321)\n",
    "book2.read(323)"
   ]
  },
  {
   "cell_type": "code",
   "execution_count": 15,
   "metadata": {},
   "outputs": [
    {
     "name": "stdout",
     "output_type": "stream",
     "text": [
      "Congrats on purchasing Cookbook by Chef Bobby Flay for $14.95\n",
      "You are currently on page 210 of Cookbook. There are 590 pages left\n"
     ]
    }
   ],
   "source": [
    "book3 = Book('Cookbook', 'Chef Bobby Flay', 800, 14.95, 200)\n",
    "book3.read(10)"
   ]
  },
  {
   "cell_type": "code",
   "execution_count": 17,
   "metadata": {},
   "outputs": [
    {
     "name": "stdout",
     "output_type": "stream",
     "text": [
      "[<__main__.Book object at 0x00000206C4310550>, <__main__.Book object at 0x00000206C4312DA0>, <__main__.Book object at 0x00000206C4313310>]\n",
      "<__main__.Book object at 0x00000206C4310550>\n",
      "<__main__.Book object at 0x00000206C4312DA0>\n",
      "<__main__.Book object at 0x00000206C4313310>\n"
     ]
    }
   ],
   "source": [
    "library = [book, book2, book3]\n",
    "\n",
    "print(library)\n",
    "\n",
    "for book in library:\n",
    "    print(book)"
   ]
  },
  {
   "cell_type": "code",
   "execution_count": 18,
   "metadata": {},
   "outputs": [
    {
     "name": "stdout",
     "output_type": "stream",
     "text": [
      "<__main__.Student object at 0x00000206C43131F0>\n",
      "<__main__.Student object at 0x00000206C4313B50>\n"
     ]
    }
   ],
   "source": [
    "class Student:\n",
    "    def __init__(self, first, last):\n",
    "        self.first_name = first\n",
    "        self.last_name = last\n",
    "        \n",
    "s1 = Student('Michael', 'Scott')\n",
    "s2 = Student('Dwight', 'Schrute')\n",
    "\n",
    "print(s1)\n",
    "print(s2)"
   ]
  },
  {
   "cell_type": "markdown",
   "metadata": {},
   "source": [
    "## Dunder Methods"
   ]
  },
  {
   "cell_type": "code",
   "execution_count": 21,
   "metadata": {
    "scrolled": true
   },
   "outputs": [
    {
     "data": {
      "text/plain": [
       "44"
      ]
     },
     "execution_count": 21,
     "metadata": {},
     "output_type": "execute_result"
    }
   ],
   "source": [
    "number = 44\n",
    "\n",
    "number"
   ]
  },
  {
   "cell_type": "code",
   "execution_count": 22,
   "metadata": {},
   "outputs": [
    {
     "data": {
      "text/plain": [
       "'44'"
      ]
     },
     "execution_count": 22,
     "metadata": {},
     "output_type": "execute_result"
    }
   ],
   "source": [
    "str(number)"
   ]
  },
  {
   "cell_type": "code",
   "execution_count": 23,
   "metadata": {},
   "outputs": [
    {
     "data": {
      "text/plain": [
       "'44'"
      ]
     },
     "execution_count": 23,
     "metadata": {},
     "output_type": "execute_result"
    }
   ],
   "source": [
    "int.__str__(number)"
   ]
  },
  {
   "cell_type": "code",
   "execution_count": 24,
   "metadata": {},
   "outputs": [
    {
     "name": "stdout",
     "output_type": "stream",
     "text": [
      "I am 44 years old\n"
     ]
    }
   ],
   "source": [
    "print(f\"I am {number} years old\")"
   ]
  },
  {
   "cell_type": "markdown",
   "metadata": {},
   "source": [
    "#### \\__str\\__()"
   ]
  },
  {
   "cell_type": "code",
   "execution_count": 29,
   "metadata": {},
   "outputs": [
    {
     "name": "stdout",
     "output_type": "stream",
     "text": [
      "Congrats on purchasing A Tale of Two Cities by Charles Dickens for $29.99\n",
      "Congrats on purchasing Moby Dick by Herman Melville for $15.00\n"
     ]
    }
   ],
   "source": [
    "class Book:\n",
    "    def __init__(self, title, author, num_of_pages, price, current_page=0):\n",
    "        self.title = title\n",
    "        self.author = author\n",
    "        self.num_of_pages = num_of_pages\n",
    "        self.price = price\n",
    "        self.current_page = current_page\n",
    "        print(f\"Congrats on purchasing {title} by {author} for ${price:.2f}\")\n",
    "        \n",
    "    def __str__(self):\n",
    "        return f\"{self.title} by {self.author}\"\n",
    "    \n",
    "b1 = Book('A Tale of Two Cities', 'Charles Dickens', 872, 29.99)\n",
    "b2 = Book('Moby Dick', 'Herman Melville', 529, 15.00)"
   ]
  },
  {
   "cell_type": "code",
   "execution_count": 30,
   "metadata": {},
   "outputs": [
    {
     "name": "stdout",
     "output_type": "stream",
     "text": [
      "A Tale of Two Cities by Charles Dickens\n"
     ]
    }
   ],
   "source": [
    "print(b1)"
   ]
  },
  {
   "cell_type": "code",
   "execution_count": 31,
   "metadata": {},
   "outputs": [
    {
     "name": "stdout",
     "output_type": "stream",
     "text": [
      "Moby Dick by Herman Melville\n"
     ]
    }
   ],
   "source": [
    "print(b2)"
   ]
  },
  {
   "cell_type": "code",
   "execution_count": 35,
   "metadata": {},
   "outputs": [
    {
     "name": "stdout",
     "output_type": "stream",
     "text": [
      "I am currently reading Moby Dick by Herman Melville\n"
     ]
    }
   ],
   "source": [
    "print(f\"I am currently reading {b2}\")"
   ]
  },
  {
   "cell_type": "code",
   "execution_count": 36,
   "metadata": {},
   "outputs": [
    {
     "name": "stdout",
     "output_type": "stream",
     "text": [
      "[<__main__.Book object at 0x00000206C4311660>, <__main__.Book object at 0x00000206C4312CE0>]\n"
     ]
    }
   ],
   "source": [
    "lib2 = [b1, b2]\n",
    "\n",
    "print(lib2)"
   ]
  },
  {
   "cell_type": "code",
   "execution_count": 39,
   "metadata": {},
   "outputs": [
    {
     "name": "stdout",
     "output_type": "stream",
     "text": [
      "Blue Toyota Camry drove 123 miles\n",
      "Red Ford Mustang drove 46 miles\n"
     ]
    }
   ],
   "source": [
    "class Car:\n",
    "    def __init__(self, color, make, model):\n",
    "        self.color = color\n",
    "        self.make = make\n",
    "        self.model = model\n",
    "        \n",
    "    def __str__(self):\n",
    "        return f\"{self.color} {self.make} {self.model}\".title()\n",
    "        \n",
    "    def drive(self, num_miles):\n",
    "        print(f\"{self} drove {num_miles} miles\")\n",
    "        \n",
    "        \n",
    "        \n",
    "car1 = Car('blue', 'Toyota', 'Camry')\n",
    "car2 = Car('red', 'Ford', 'Mustang')\n",
    "\n",
    "car1.drive(123)\n",
    "car2.drive(46)"
   ]
  },
  {
   "cell_type": "code",
   "execution_count": 40,
   "metadata": {},
   "outputs": [
    {
     "name": "stdout",
     "output_type": "stream",
     "text": [
      "Blue Toyota Camry\n",
      "Red Ford Mustang\n"
     ]
    }
   ],
   "source": [
    "print(car1)\n",
    "print(car2)"
   ]
  },
  {
   "cell_type": "code",
   "execution_count": 41,
   "metadata": {},
   "outputs": [
    {
     "data": {
      "text/plain": [
       "<__main__.Car at 0x206c4311930>"
      ]
     },
     "execution_count": 41,
     "metadata": {},
     "output_type": "execute_result"
    }
   ],
   "source": [
    "car1"
   ]
  },
  {
   "cell_type": "code",
   "execution_count": 42,
   "metadata": {},
   "outputs": [
    {
     "data": {
      "text/plain": [
       "'Blue Toyota Camry'"
      ]
     },
     "execution_count": 42,
     "metadata": {},
     "output_type": "execute_result"
    }
   ],
   "source": [
    "str(car1)"
   ]
  },
  {
   "cell_type": "markdown",
   "metadata": {},
   "source": [
    "#### \\__repr\\__()"
   ]
  },
  {
   "cell_type": "code",
   "execution_count": 43,
   "metadata": {
    "scrolled": true
   },
   "outputs": [
    {
     "name": "stdout",
     "output_type": "stream",
     "text": [
      "Blue Toyota Camry drove 123 miles\n",
      "Red Ford Mustang drove 46 miles\n"
     ]
    }
   ],
   "source": [
    "class Car:\n",
    "    def __init__(self, color, make, model):\n",
    "        self.color = color\n",
    "        self.make = make\n",
    "        self.model = model\n",
    "        \n",
    "    # Method that will return end-user friendly readable info\n",
    "    def __str__(self):\n",
    "        return f\"{self.color} {self.make} {self.model}\".title()\n",
    "    \n",
    "    # Method that will return the machine readable (developer-friendly) info\n",
    "    def __repr__(self):\n",
    "        return f\"<Car|{self.make} {self.model}>\"\n",
    "        \n",
    "    def drive(self, num_miles):\n",
    "        print(f\"{self} drove {num_miles} miles\")\n",
    "        \n",
    "        \n",
    "        \n",
    "car1 = Car('blue', 'Toyota', 'Camry')\n",
    "car2 = Car('red', 'Ford', 'Mustang')\n",
    "\n",
    "car1.drive(123)\n",
    "car2.drive(46)"
   ]
  },
  {
   "cell_type": "code",
   "execution_count": 44,
   "metadata": {},
   "outputs": [
    {
     "name": "stdout",
     "output_type": "stream",
     "text": [
      "Blue Toyota Camry\n",
      "Red Ford Mustang\n"
     ]
    }
   ],
   "source": [
    "print(car1)\n",
    "print(car2)"
   ]
  },
  {
   "cell_type": "code",
   "execution_count": 45,
   "metadata": {},
   "outputs": [
    {
     "data": {
      "text/plain": [
       "<Car|Toyota Camry>"
      ]
     },
     "execution_count": 45,
     "metadata": {},
     "output_type": "execute_result"
    }
   ],
   "source": [
    "car1"
   ]
  },
  {
   "cell_type": "code",
   "execution_count": 46,
   "metadata": {},
   "outputs": [
    {
     "data": {
      "text/plain": [
       "<Car|Ford Mustang>"
      ]
     },
     "execution_count": 46,
     "metadata": {},
     "output_type": "execute_result"
    }
   ],
   "source": [
    "car2"
   ]
  },
  {
   "cell_type": "code",
   "execution_count": 47,
   "metadata": {},
   "outputs": [
    {
     "name": "stdout",
     "output_type": "stream",
     "text": [
      "[<Car|Toyota Camry>, <Car|Ford Mustang>]\n",
      "Blue Toyota Camry\n",
      "Red Ford Mustang\n"
     ]
    }
   ],
   "source": [
    "garage = [car1, car2]\n",
    "\n",
    "print(garage)\n",
    "\n",
    "for car in garage:\n",
    "    print(car)"
   ]
  },
  {
   "cell_type": "code",
   "execution_count": 54,
   "metadata": {},
   "outputs": [],
   "source": [
    "class BlogPost:\n",
    "    id_counter = 1\n",
    "    \n",
    "    def __init__(self, title, body, author):\n",
    "        self.title = title.title()\n",
    "        self.body = body\n",
    "        self.author = author.title()\n",
    "        self.id = BlogPost.id_counter\n",
    "        BlogPost.id_counter += 1\n",
    "        \n",
    "    # String Method - End-User Friendly\n",
    "    def __str__(self):\n",
    "        return f\"\"\"\n",
    "        {self.title}\n",
    "        By: {self.author}\n",
    "        {self.body}\n",
    "        \"\"\"\n",
    "    \n",
    "    # Repr Method - Developer Friendy\n",
    "    def __repr__(self):\n",
    "        return f\"<BlogPost {self.id}|{self.title}>\""
   ]
  },
  {
   "cell_type": "code",
   "execution_count": 55,
   "metadata": {},
   "outputs": [],
   "source": [
    "post1 = BlogPost('First Post', 'This is the very first post. I hope you like it', 'brian')\n",
    "post2 = BlogPost('Tuesday', 'Today is Tuesday. Tomorrow is Wednesday. Yesterday was Monday.', 'Travis')\n",
    "post3 = BlogPost('OOP', 'This is an example of __str__ vs __repr__ methods', 'kevin')"
   ]
  },
  {
   "cell_type": "code",
   "execution_count": 56,
   "metadata": {},
   "outputs": [
    {
     "name": "stdout",
     "output_type": "stream",
     "text": [
      "[<BlogPost 1|First Post>, <BlogPost 2|Tuesday>, <BlogPost 3|Oop>]\n"
     ]
    }
   ],
   "source": [
    "blog = [post1, post2, post3]\n",
    "\n",
    "print(blog)"
   ]
  },
  {
   "cell_type": "code",
   "execution_count": 57,
   "metadata": {},
   "outputs": [
    {
     "name": "stdout",
     "output_type": "stream",
     "text": [
      "\n",
      "        First Post\n",
      "        By: Brian\n",
      "        This is the very first post. I hope you like it\n",
      "        \n",
      "\n",
      "        Tuesday\n",
      "        By: Travis\n",
      "        Today is Tuesday. Tomorrow is Wednesday. Yesterday was Monday.\n",
      "        \n",
      "\n",
      "        Oop\n",
      "        By: Kevin\n",
      "        This is an example of __str__ vs __repr__ methods\n",
      "        \n"
     ]
    }
   ],
   "source": [
    "for post in blog:\n",
    "    print(post)"
   ]
  },
  {
   "cell_type": "code",
   "execution_count": 60,
   "metadata": {},
   "outputs": [
    {
     "name": "stdout",
     "output_type": "stream",
     "text": [
      "[<HotelRoom | 100>, <HotelRoom | 101>, <HotelRoom | 102>, <HotelRoom | 103>, <HotelRoom | 104>, <HotelRoom | 105>, <HotelRoom | 106>, <HotelRoom | 107>, <HotelRoom | 108>, <HotelRoom | 109>, <HotelRoom | 110>, <HotelRoom | 111>, <HotelRoom | 112>, <HotelRoom | 113>, <HotelRoom | 114>, <HotelRoom | 115>, <HotelRoom | 116>, <HotelRoom | 117>, <HotelRoom | 118>, <HotelRoom | 119>]\n"
     ]
    }
   ],
   "source": [
    "# If the __repr__() is defined but the __str__() is not, then __repr__ is used for the string conversion\n",
    "\n",
    "class HotelRoom:\n",
    "    def __init__(self, room_number):\n",
    "        self.room_number = room_number\n",
    "        self.occupied = False\n",
    "        \n",
    "    def __repr__(self):\n",
    "        return f\"<HotelRoom | {self.room_number}>\"\n",
    "    \n",
    "    \n",
    "hotel = [HotelRoom(x) for x in range(100, 120)]\n",
    "print(hotel)"
   ]
  },
  {
   "cell_type": "code",
   "execution_count": 61,
   "metadata": {
    "scrolled": true
   },
   "outputs": [
    {
     "name": "stdout",
     "output_type": "stream",
     "text": [
      "<HotelRoom | 100>\n",
      "<HotelRoom | 101>\n",
      "<HotelRoom | 102>\n",
      "<HotelRoom | 103>\n",
      "<HotelRoom | 104>\n",
      "<HotelRoom | 105>\n",
      "<HotelRoom | 106>\n",
      "<HotelRoom | 107>\n",
      "<HotelRoom | 108>\n",
      "<HotelRoom | 109>\n",
      "<HotelRoom | 110>\n",
      "<HotelRoom | 111>\n",
      "<HotelRoom | 112>\n",
      "<HotelRoom | 113>\n",
      "<HotelRoom | 114>\n",
      "<HotelRoom | 115>\n",
      "<HotelRoom | 116>\n",
      "<HotelRoom | 117>\n",
      "<HotelRoom | 118>\n",
      "<HotelRoom | 119>\n"
     ]
    }
   ],
   "source": [
    "for room in hotel:\n",
    "    print(room)"
   ]
  },
  {
   "cell_type": "code",
   "execution_count": 62,
   "metadata": {},
   "outputs": [
    {
     "name": "stdout",
     "output_type": "stream",
     "text": [
      "[<__main__.HotelRoom object at 0x00000206C43EEE00>, <__main__.HotelRoom object at 0x00000206C43101C0>, <__main__.HotelRoom object at 0x00000206C4400340>, <__main__.HotelRoom object at 0x00000206C44010C0>, <__main__.HotelRoom object at 0x00000206C4400790>, <__main__.HotelRoom object at 0x00000206C44010F0>, <__main__.HotelRoom object at 0x00000206C4400040>, <__main__.HotelRoom object at 0x00000206C4400C10>, <__main__.HotelRoom object at 0x00000206C4401870>, <__main__.HotelRoom object at 0x00000206C4400A90>, <__main__.HotelRoom object at 0x00000206C4400F70>, <__main__.HotelRoom object at 0x00000206C4401420>, <__main__.HotelRoom object at 0x00000206C4403BE0>, <__main__.HotelRoom object at 0x00000206C44001C0>, <__main__.HotelRoom object at 0x00000206C4401600>, <__main__.HotelRoom object at 0x00000206C44039A0>, <__main__.HotelRoom object at 0x00000206C4403C40>, <__main__.HotelRoom object at 0x00000206C4401330>, <__main__.HotelRoom object at 0x00000206C44009D0>, <__main__.HotelRoom object at 0x00000206C4401210>]\n"
     ]
    }
   ],
   "source": [
    "# The opposite is NOT true!  if __str__ is there but no __repr__, __repr__ != __str__\n",
    "\n",
    "class HotelRoom:\n",
    "    def __init__(self, room_number):\n",
    "        self.room_number = room_number\n",
    "        self.occupied = False\n",
    "        \n",
    "    def __str__(self):\n",
    "        return f\"Room Number: {self.room_number}\\nOccupied: {self.occupied}\"\n",
    "    \n",
    "    \n",
    "hotel = [HotelRoom(x) for x in range(100, 120)]\n",
    "print(hotel)"
   ]
  },
  {
   "cell_type": "code",
   "execution_count": 64,
   "metadata": {},
   "outputs": [
    {
     "name": "stdout",
     "output_type": "stream",
     "text": [
      "Room Number: 100\n",
      "Occupied: False\n",
      "=========================\n",
      "Room Number: 101\n",
      "Occupied: False\n",
      "=========================\n",
      "Room Number: 102\n",
      "Occupied: False\n",
      "=========================\n",
      "Room Number: 103\n",
      "Occupied: False\n",
      "=========================\n",
      "Room Number: 104\n",
      "Occupied: False\n",
      "=========================\n",
      "Room Number: 105\n",
      "Occupied: False\n",
      "=========================\n",
      "Room Number: 106\n",
      "Occupied: False\n",
      "=========================\n",
      "Room Number: 107\n",
      "Occupied: False\n",
      "=========================\n",
      "Room Number: 108\n",
      "Occupied: False\n",
      "=========================\n",
      "Room Number: 109\n",
      "Occupied: False\n",
      "=========================\n",
      "Room Number: 110\n",
      "Occupied: False\n",
      "=========================\n",
      "Room Number: 111\n",
      "Occupied: False\n",
      "=========================\n",
      "Room Number: 112\n",
      "Occupied: False\n",
      "=========================\n",
      "Room Number: 113\n",
      "Occupied: False\n",
      "=========================\n",
      "Room Number: 114\n",
      "Occupied: False\n",
      "=========================\n",
      "Room Number: 115\n",
      "Occupied: False\n",
      "=========================\n",
      "Room Number: 116\n",
      "Occupied: False\n",
      "=========================\n",
      "Room Number: 117\n",
      "Occupied: False\n",
      "=========================\n",
      "Room Number: 118\n",
      "Occupied: False\n",
      "=========================\n",
      "Room Number: 119\n",
      "Occupied: False\n",
      "=========================\n"
     ]
    }
   ],
   "source": [
    "for room in hotel:\n",
    "    print(room)\n",
    "    print('='*25)"
   ]
  },
  {
   "cell_type": "markdown",
   "metadata": {},
   "source": [
    "#### \\__lt\\__(), \\__lte\\__(), \\__eq\\__(), etc"
   ]
  },
  {
   "cell_type": "code",
   "execution_count": null,
   "metadata": {},
   "outputs": [],
   "source": []
  },
  {
   "cell_type": "code",
   "execution_count": null,
   "metadata": {},
   "outputs": [],
   "source": []
  },
  {
   "cell_type": "code",
   "execution_count": null,
   "metadata": {},
   "outputs": [],
   "source": []
  },
  {
   "cell_type": "markdown",
   "metadata": {},
   "source": [
    "##### \\_\\_add\\_\\_, \\_\\_contains\\_\\_"
   ]
  },
  {
   "cell_type": "code",
   "execution_count": null,
   "metadata": {},
   "outputs": [],
   "source": []
  },
  {
   "cell_type": "code",
   "execution_count": null,
   "metadata": {},
   "outputs": [],
   "source": []
  },
  {
   "cell_type": "code",
   "execution_count": null,
   "metadata": {},
   "outputs": [],
   "source": []
  },
  {
   "cell_type": "markdown",
   "metadata": {},
   "source": [
    "#### In-class Exercise 1"
   ]
  },
  {
   "cell_type": "code",
   "execution_count": null,
   "metadata": {},
   "outputs": [],
   "source": [
    "# Create a class Animal that displays the name and species when printed\n",
    "\n",
    "\n",
    "leo = Animal('Leo', 'lion')\n",
    "\n",
    "print(leo) # Leo the Lion\n",
    "\n",
    "\n",
    "buddy = Animal('Buddy', 'dog')\n",
    "print(buddy) # Buddy the Dog"
   ]
  },
  {
   "cell_type": "markdown",
   "metadata": {},
   "source": [
    "## Inheritance <br>\n",
    "<p>You can create a child-parent relationship between two classes by using inheritance. What this allows you to do is have overriding methods, but also inherit traits from the parent class. Think of it as an actual parent and child, the child will inherit the parent's genes, as will the classes in OOP</p>"
   ]
  },
  {
   "cell_type": "markdown",
   "metadata": {},
   "source": [
    "##### Syntax for Inheriting from a Parent Class"
   ]
  },
  {
   "cell_type": "code",
   "execution_count": null,
   "metadata": {},
   "outputs": [],
   "source": [
    "# Syntax: class Child(Parent):\n",
    "\n"
   ]
  },
  {
   "cell_type": "code",
   "execution_count": null,
   "metadata": {},
   "outputs": [],
   "source": []
  },
  {
   "cell_type": "markdown",
   "metadata": {},
   "source": [
    "##### The \\__init\\__() Method for a Child Class - super()"
   ]
  },
  {
   "cell_type": "code",
   "execution_count": null,
   "metadata": {
    "scrolled": true
   },
   "outputs": [],
   "source": []
  },
  {
   "cell_type": "code",
   "execution_count": null,
   "metadata": {},
   "outputs": [],
   "source": []
  },
  {
   "cell_type": "code",
   "execution_count": null,
   "metadata": {
    "scrolled": true
   },
   "outputs": [],
   "source": []
  },
  {
   "cell_type": "code",
   "execution_count": null,
   "metadata": {},
   "outputs": [],
   "source": []
  },
  {
   "cell_type": "code",
   "execution_count": null,
   "metadata": {},
   "outputs": [],
   "source": []
  },
  {
   "cell_type": "markdown",
   "metadata": {},
   "source": [
    "#### In-class Exercise 2"
   ]
  },
  {
   "cell_type": "markdown",
   "metadata": {},
   "source": [
    "Create a Car class that has a drive and fill up method, and then create a Ford class that inherits from the car class."
   ]
  },
  {
   "cell_type": "code",
   "execution_count": null,
   "metadata": {},
   "outputs": [],
   "source": [
    "\n",
    "\n",
    "\n",
    "\n",
    "my_car = Ford('blue', 'Focus')\n",
    "\n",
    "print(my_car.make) # 'Ford'\n",
    "\n",
    "my_car.drive() # 'blue Ford Focus is driving'\n",
    "\n",
    "my_car.fill_up() # 'Filling up blue Ford Focus'\n",
    "\n",
    "my_other_car = Toyota('red', 'Camry')\n",
    "\n",
    "my_other_car.drive()\n",
    "my_other_car.fill_up()\n"
   ]
  },
  {
   "cell_type": "markdown",
   "metadata": {},
   "source": [
    "## Modules"
   ]
  },
  {
   "cell_type": "markdown",
   "metadata": {},
   "source": [
    "##### Importing Entire Modules"
   ]
  },
  {
   "cell_type": "code",
   "execution_count": null,
   "metadata": {},
   "outputs": [],
   "source": [
    "# import name_of_module\n",
    "\n"
   ]
  },
  {
   "cell_type": "markdown",
   "metadata": {},
   "source": [
    "##### Importing Methods Only"
   ]
  },
  {
   "cell_type": "code",
   "execution_count": null,
   "metadata": {},
   "outputs": [],
   "source": [
    "# from module_name import class, function, constant, etc.\n",
    "\n"
   ]
  },
  {
   "cell_type": "markdown",
   "metadata": {},
   "source": [
    "##### Using the 'as' Keyword"
   ]
  },
  {
   "cell_type": "code",
   "execution_count": null,
   "metadata": {},
   "outputs": [],
   "source": [
    "# import module as new_name\n",
    "# from module import function as f\n",
    "\n"
   ]
  },
  {
   "cell_type": "code",
   "execution_count": null,
   "metadata": {},
   "outputs": [],
   "source": []
  },
  {
   "cell_type": "code",
   "execution_count": null,
   "metadata": {},
   "outputs": [],
   "source": [
    "# Using VS Code\n"
   ]
  },
  {
   "cell_type": "code",
   "execution_count": null,
   "metadata": {},
   "outputs": [],
   "source": []
  },
  {
   "cell_type": "code",
   "execution_count": null,
   "metadata": {},
   "outputs": [],
   "source": []
  },
  {
   "cell_type": "code",
   "execution_count": null,
   "metadata": {},
   "outputs": [],
   "source": []
  },
  {
   "cell_type": "code",
   "execution_count": null,
   "metadata": {},
   "outputs": [],
   "source": []
  }
 ],
 "metadata": {
  "kernelspec": {
   "display_name": "Python 3 (ipykernel)",
   "language": "python",
   "name": "python3"
  },
  "language_info": {
   "codemirror_mode": {
    "name": "ipython",
    "version": 3
   },
   "file_extension": ".py",
   "mimetype": "text/x-python",
   "name": "python",
   "nbconvert_exporter": "python",
   "pygments_lexer": "ipython3",
   "version": "3.10.9"
  }
 },
 "nbformat": 4,
 "nbformat_minor": 2
}
