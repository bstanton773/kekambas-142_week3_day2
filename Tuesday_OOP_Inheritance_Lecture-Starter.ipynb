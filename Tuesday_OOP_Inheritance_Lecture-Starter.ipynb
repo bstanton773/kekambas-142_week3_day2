{
 "cells": [
  {
   "cell_type": "markdown",
   "metadata": {},
   "source": [
    "# Object-Oriented-Programming (OOP)"
   ]
  },
  {
   "cell_type": "markdown",
   "metadata": {},
   "source": [
    "## Tasks Today:\n",
    "\n",
    "   \n",
    "1) <b>Dunder Methods</b> <br>\n",
    " &nbsp;&nbsp;&nbsp;&nbsp; a) The \\__str\\__() Method <br>\n",
    " &nbsp;&nbsp;&nbsp;&nbsp; b) The \\__repr\\__() Method <br>\n",
    " &nbsp;&nbsp;&nbsp;&nbsp; c) Other Magic Methods <br>\n",
    " &nbsp;&nbsp;&nbsp;&nbsp; d) In-Class Exercise #1 - Create a class Animal that displays the species and animal name when printed <br>  \n",
    "2) <b>Inheritance</b> <br>\n",
    " &nbsp;&nbsp;&nbsp;&nbsp; a) Syntax for Inheriting from a Parent Class <br>\n",
    " &nbsp;&nbsp;&nbsp;&nbsp; b) The \\__init\\__() Method for a Child Class (super()) <br>\n",
    " &nbsp;&nbsp;&nbsp;&nbsp; c) Defining Attributes and Methods for the Child Class <br>\n",
    " &nbsp;&nbsp;&nbsp;&nbsp; d) Method Overriding <br>\n",
    " &nbsp;&nbsp;&nbsp;&nbsp; e) In-Class Exercise #2 - Create a class 'Ford' that inherits from 'Car' class and initialize it as a Blue Ford Explorer with 4 wheels using the super() method <br>\n",
    "3) <b>Modules</b> <br>\n",
    " &nbsp;&nbsp;&nbsp;&nbsp; a) Importing Modules<br>\n",
    " &nbsp;&nbsp;&nbsp;&nbsp; b) Importing from modules <br>\n",
    " &nbsp;&nbsp;&nbsp;&nbsp; c) Aliasing <br>\n",
    " &nbsp;&nbsp;&nbsp;&nbsp; d) Creating Modules <br>\n"
   ]
  },
  {
   "cell_type": "markdown",
   "metadata": {},
   "source": [
    "### Warm Up"
   ]
  },
  {
   "cell_type": "markdown",
   "metadata": {},
   "source": [
    "Create a class for a Book that has instance attributes for `title`, `author`, `num_of_pages`, and `price`. Each book instance should also have a `current_page` attribute that starts at 0. Add a method called `read` that takes in number of pages. The method should update the what the current page is. If the `current_page` goes over the `num_of_pages`, print that the book is finished and reset the `current_page` to 0"
   ]
  },
  {
   "cell_type": "code",
   "execution_count": 11,
   "metadata": {},
   "outputs": [],
   "source": [
    "class Book:\n",
    "    def __init__(self, title, author, num_of_pages, price, current_page=0):\n",
    "        self.title = title\n",
    "        self.author = author\n",
    "        self.num_of_pages = num_of_pages\n",
    "        self.price = price\n",
    "        self.current_page = current_page\n",
    "        print(f\"Congrats on purchasing {title} by {author} for ${price:.2f}\")\n",
    "        \n",
    "    def read(self, num_pages):\n",
    "        self.current_page += num_pages\n",
    "        if self.current_page >= self.num_of_pages:\n",
    "            print(f\"Congrats on finishing {self.title}\")\n",
    "            self.current_page = 0\n",
    "        else:\n",
    "            print(f\"You are currently on page {self.current_page} of {self.title}. \\\n",
    "There are {self.num_of_pages - self.current_page} pages left\")"
   ]
  },
  {
   "cell_type": "code",
   "execution_count": 12,
   "metadata": {},
   "outputs": [
    {
     "name": "stdout",
     "output_type": "stream",
     "text": [
      "Congrats on purchasing The Midnight Library by Matt Haig for $26.00\n",
      "You are currently on page 45 of The Midnight Library. There are 243 pages left\n",
      "You are currently on page 104 of The Midnight Library. There are 184 pages left\n",
      "You are currently on page 146 of The Midnight Library. There are 142 pages left\n",
      "You are currently on page 230 of The Midnight Library. There are 58 pages left\n",
      "Congrats on finishing The Midnight Library\n"
     ]
    }
   ],
   "source": [
    "book = Book(\"The Midnight Library\", \"Matt Haig\", 288, 26.00)\n",
    "book.read(45)\n",
    "book.read(59)\n",
    "book.read(42)\n",
    "book.read(84)\n",
    "book.read(62)"
   ]
  },
  {
   "cell_type": "code",
   "execution_count": 13,
   "metadata": {},
   "outputs": [
    {
     "data": {
      "text/plain": [
       "0"
      ]
     },
     "execution_count": 13,
     "metadata": {},
     "output_type": "execute_result"
    }
   ],
   "source": [
    "book.current_page"
   ]
  },
  {
   "cell_type": "code",
   "execution_count": 14,
   "metadata": {},
   "outputs": [
    {
     "name": "stdout",
     "output_type": "stream",
     "text": [
      "Congrats on purchasing Harry Potter by JK Rowling for $19.99\n",
      "You are currently on page 123 of Harry Potter. There are 644 pages left\n",
      "You are currently on page 444 of Harry Potter. There are 323 pages left\n",
      "Congrats on finishing Harry Potter\n"
     ]
    }
   ],
   "source": [
    "book2 = Book('Harry Potter', 'JK Rowling', 767, 19.99)\n",
    "book2.read(123)\n",
    "book2.read(321)\n",
    "book2.read(323)"
   ]
  },
  {
   "cell_type": "code",
   "execution_count": 15,
   "metadata": {},
   "outputs": [
    {
     "name": "stdout",
     "output_type": "stream",
     "text": [
      "Congrats on purchasing Cookbook by Chef Bobby Flay for $14.95\n",
      "You are currently on page 210 of Cookbook. There are 590 pages left\n"
     ]
    }
   ],
   "source": [
    "book3 = Book('Cookbook', 'Chef Bobby Flay', 800, 14.95, 200)\n",
    "book3.read(10)"
   ]
  },
  {
   "cell_type": "code",
   "execution_count": 17,
   "metadata": {},
   "outputs": [
    {
     "name": "stdout",
     "output_type": "stream",
     "text": [
      "[<__main__.Book object at 0x00000206C4310550>, <__main__.Book object at 0x00000206C4312DA0>, <__main__.Book object at 0x00000206C4313310>]\n",
      "<__main__.Book object at 0x00000206C4310550>\n",
      "<__main__.Book object at 0x00000206C4312DA0>\n",
      "<__main__.Book object at 0x00000206C4313310>\n"
     ]
    }
   ],
   "source": [
    "library = [book, book2, book3]\n",
    "\n",
    "print(library)\n",
    "\n",
    "for book in library:\n",
    "    print(book)"
   ]
  },
  {
   "cell_type": "code",
   "execution_count": 18,
   "metadata": {},
   "outputs": [
    {
     "name": "stdout",
     "output_type": "stream",
     "text": [
      "<__main__.Student object at 0x00000206C43131F0>\n",
      "<__main__.Student object at 0x00000206C4313B50>\n"
     ]
    }
   ],
   "source": [
    "class Student:\n",
    "    def __init__(self, first, last):\n",
    "        self.first_name = first\n",
    "        self.last_name = last\n",
    "        \n",
    "s1 = Student('Michael', 'Scott')\n",
    "s2 = Student('Dwight', 'Schrute')\n",
    "\n",
    "print(s1)\n",
    "print(s2)"
   ]
  },
  {
   "cell_type": "markdown",
   "metadata": {},
   "source": [
    "## Dunder Methods"
   ]
  },
  {
   "cell_type": "code",
   "execution_count": 21,
   "metadata": {
    "scrolled": true
   },
   "outputs": [
    {
     "data": {
      "text/plain": [
       "44"
      ]
     },
     "execution_count": 21,
     "metadata": {},
     "output_type": "execute_result"
    }
   ],
   "source": [
    "number = 44\n",
    "\n",
    "number"
   ]
  },
  {
   "cell_type": "code",
   "execution_count": 22,
   "metadata": {},
   "outputs": [
    {
     "data": {
      "text/plain": [
       "'44'"
      ]
     },
     "execution_count": 22,
     "metadata": {},
     "output_type": "execute_result"
    }
   ],
   "source": [
    "str(number)"
   ]
  },
  {
   "cell_type": "code",
   "execution_count": 23,
   "metadata": {},
   "outputs": [
    {
     "data": {
      "text/plain": [
       "'44'"
      ]
     },
     "execution_count": 23,
     "metadata": {},
     "output_type": "execute_result"
    }
   ],
   "source": [
    "int.__str__(number)"
   ]
  },
  {
   "cell_type": "code",
   "execution_count": 24,
   "metadata": {},
   "outputs": [
    {
     "name": "stdout",
     "output_type": "stream",
     "text": [
      "I am 44 years old\n"
     ]
    }
   ],
   "source": [
    "print(f\"I am {number} years old\")"
   ]
  },
  {
   "cell_type": "markdown",
   "metadata": {},
   "source": [
    "#### \\__str\\__()"
   ]
  },
  {
   "cell_type": "code",
   "execution_count": 29,
   "metadata": {},
   "outputs": [
    {
     "name": "stdout",
     "output_type": "stream",
     "text": [
      "Congrats on purchasing A Tale of Two Cities by Charles Dickens for $29.99\n",
      "Congrats on purchasing Moby Dick by Herman Melville for $15.00\n"
     ]
    }
   ],
   "source": [
    "class Book:\n",
    "    def __init__(self, title, author, num_of_pages, price, current_page=0):\n",
    "        self.title = title\n",
    "        self.author = author\n",
    "        self.num_of_pages = num_of_pages\n",
    "        self.price = price\n",
    "        self.current_page = current_page\n",
    "        print(f\"Congrats on purchasing {title} by {author} for ${price:.2f}\")\n",
    "        \n",
    "    def __str__(self):\n",
    "        return f\"{self.title} by {self.author}\"\n",
    "    \n",
    "b1 = Book('A Tale of Two Cities', 'Charles Dickens', 872, 29.99)\n",
    "b2 = Book('Moby Dick', 'Herman Melville', 529, 15.00)"
   ]
  },
  {
   "cell_type": "code",
   "execution_count": 30,
   "metadata": {},
   "outputs": [
    {
     "name": "stdout",
     "output_type": "stream",
     "text": [
      "A Tale of Two Cities by Charles Dickens\n"
     ]
    }
   ],
   "source": [
    "print(b1)"
   ]
  },
  {
   "cell_type": "code",
   "execution_count": 31,
   "metadata": {},
   "outputs": [
    {
     "name": "stdout",
     "output_type": "stream",
     "text": [
      "Moby Dick by Herman Melville\n"
     ]
    }
   ],
   "source": [
    "print(b2)"
   ]
  },
  {
   "cell_type": "code",
   "execution_count": 35,
   "metadata": {},
   "outputs": [
    {
     "name": "stdout",
     "output_type": "stream",
     "text": [
      "I am currently reading Moby Dick by Herman Melville\n"
     ]
    }
   ],
   "source": [
    "print(f\"I am currently reading {b2}\")"
   ]
  },
  {
   "cell_type": "code",
   "execution_count": 36,
   "metadata": {},
   "outputs": [
    {
     "name": "stdout",
     "output_type": "stream",
     "text": [
      "[<__main__.Book object at 0x00000206C4311660>, <__main__.Book object at 0x00000206C4312CE0>]\n"
     ]
    }
   ],
   "source": [
    "lib2 = [b1, b2]\n",
    "\n",
    "print(lib2)"
   ]
  },
  {
   "cell_type": "code",
   "execution_count": 39,
   "metadata": {},
   "outputs": [
    {
     "name": "stdout",
     "output_type": "stream",
     "text": [
      "Blue Toyota Camry drove 123 miles\n",
      "Red Ford Mustang drove 46 miles\n"
     ]
    }
   ],
   "source": [
    "class Car:\n",
    "    def __init__(self, color, make, model):\n",
    "        self.color = color\n",
    "        self.make = make\n",
    "        self.model = model\n",
    "        \n",
    "    def __str__(self):\n",
    "        return f\"{self.color} {self.make} {self.model}\".title()\n",
    "        \n",
    "    def drive(self, num_miles):\n",
    "        print(f\"{self} drove {num_miles} miles\")\n",
    "        \n",
    "        \n",
    "        \n",
    "car1 = Car('blue', 'Toyota', 'Camry')\n",
    "car2 = Car('red', 'Ford', 'Mustang')\n",
    "\n",
    "car1.drive(123)\n",
    "car2.drive(46)"
   ]
  },
  {
   "cell_type": "code",
   "execution_count": 40,
   "metadata": {},
   "outputs": [
    {
     "name": "stdout",
     "output_type": "stream",
     "text": [
      "Blue Toyota Camry\n",
      "Red Ford Mustang\n"
     ]
    }
   ],
   "source": [
    "print(car1)\n",
    "print(car2)"
   ]
  },
  {
   "cell_type": "code",
   "execution_count": 41,
   "metadata": {},
   "outputs": [
    {
     "data": {
      "text/plain": [
       "<__main__.Car at 0x206c4311930>"
      ]
     },
     "execution_count": 41,
     "metadata": {},
     "output_type": "execute_result"
    }
   ],
   "source": [
    "car1"
   ]
  },
  {
   "cell_type": "code",
   "execution_count": 42,
   "metadata": {},
   "outputs": [
    {
     "data": {
      "text/plain": [
       "'Blue Toyota Camry'"
      ]
     },
     "execution_count": 42,
     "metadata": {},
     "output_type": "execute_result"
    }
   ],
   "source": [
    "str(car1)"
   ]
  },
  {
   "cell_type": "markdown",
   "metadata": {},
   "source": [
    "#### \\__repr\\__()"
   ]
  },
  {
   "cell_type": "code",
   "execution_count": 43,
   "metadata": {
    "scrolled": true
   },
   "outputs": [
    {
     "name": "stdout",
     "output_type": "stream",
     "text": [
      "Blue Toyota Camry drove 123 miles\n",
      "Red Ford Mustang drove 46 miles\n"
     ]
    }
   ],
   "source": [
    "class Car:\n",
    "    def __init__(self, color, make, model):\n",
    "        self.color = color\n",
    "        self.make = make\n",
    "        self.model = model\n",
    "        \n",
    "    # Method that will return end-user friendly readable info\n",
    "    def __str__(self):\n",
    "        return f\"{self.color} {self.make} {self.model}\".title()\n",
    "    \n",
    "    # Method that will return the machine readable (developer-friendly) info\n",
    "    def __repr__(self):\n",
    "        return f\"<Car|{self.make} {self.model}>\"\n",
    "        \n",
    "    def drive(self, num_miles):\n",
    "        print(f\"{self} drove {num_miles} miles\")\n",
    "        \n",
    "        \n",
    "        \n",
    "car1 = Car('blue', 'Toyota', 'Camry')\n",
    "car2 = Car('red', 'Ford', 'Mustang')\n",
    "\n",
    "car1.drive(123)\n",
    "car2.drive(46)"
   ]
  },
  {
   "cell_type": "code",
   "execution_count": 44,
   "metadata": {},
   "outputs": [
    {
     "name": "stdout",
     "output_type": "stream",
     "text": [
      "Blue Toyota Camry\n",
      "Red Ford Mustang\n"
     ]
    }
   ],
   "source": [
    "print(car1)\n",
    "print(car2)"
   ]
  },
  {
   "cell_type": "code",
   "execution_count": 45,
   "metadata": {},
   "outputs": [
    {
     "data": {
      "text/plain": [
       "<Car|Toyota Camry>"
      ]
     },
     "execution_count": 45,
     "metadata": {},
     "output_type": "execute_result"
    }
   ],
   "source": [
    "car1"
   ]
  },
  {
   "cell_type": "code",
   "execution_count": 46,
   "metadata": {},
   "outputs": [
    {
     "data": {
      "text/plain": [
       "<Car|Ford Mustang>"
      ]
     },
     "execution_count": 46,
     "metadata": {},
     "output_type": "execute_result"
    }
   ],
   "source": [
    "car2"
   ]
  },
  {
   "cell_type": "code",
   "execution_count": 47,
   "metadata": {},
   "outputs": [
    {
     "name": "stdout",
     "output_type": "stream",
     "text": [
      "[<Car|Toyota Camry>, <Car|Ford Mustang>]\n",
      "Blue Toyota Camry\n",
      "Red Ford Mustang\n"
     ]
    }
   ],
   "source": [
    "garage = [car1, car2]\n",
    "\n",
    "print(garage)\n",
    "\n",
    "for car in garage:\n",
    "    print(car)"
   ]
  },
  {
   "cell_type": "code",
   "execution_count": 54,
   "metadata": {},
   "outputs": [],
   "source": [
    "class BlogPost:\n",
    "    id_counter = 1\n",
    "    \n",
    "    def __init__(self, title, body, author):\n",
    "        self.title = title.title()\n",
    "        self.body = body\n",
    "        self.author = author.title()\n",
    "        self.id = BlogPost.id_counter\n",
    "        BlogPost.id_counter += 1\n",
    "        \n",
    "    # String Method - End-User Friendly\n",
    "    def __str__(self):\n",
    "        return f\"\"\"\n",
    "        {self.title}\n",
    "        By: {self.author}\n",
    "        {self.body}\n",
    "        \"\"\"\n",
    "    \n",
    "    # Repr Method - Developer Friendy\n",
    "    def __repr__(self):\n",
    "        return f\"<BlogPost {self.id}|{self.title}>\""
   ]
  },
  {
   "cell_type": "code",
   "execution_count": 55,
   "metadata": {},
   "outputs": [],
   "source": [
    "post1 = BlogPost('First Post', 'This is the very first post. I hope you like it', 'brian')\n",
    "post2 = BlogPost('Tuesday', 'Today is Tuesday. Tomorrow is Wednesday. Yesterday was Monday.', 'Travis')\n",
    "post3 = BlogPost('OOP', 'This is an example of __str__ vs __repr__ methods', 'kevin')"
   ]
  },
  {
   "cell_type": "code",
   "execution_count": 56,
   "metadata": {},
   "outputs": [
    {
     "name": "stdout",
     "output_type": "stream",
     "text": [
      "[<BlogPost 1|First Post>, <BlogPost 2|Tuesday>, <BlogPost 3|Oop>]\n"
     ]
    }
   ],
   "source": [
    "blog = [post1, post2, post3]\n",
    "\n",
    "print(blog)"
   ]
  },
  {
   "cell_type": "code",
   "execution_count": 57,
   "metadata": {},
   "outputs": [
    {
     "name": "stdout",
     "output_type": "stream",
     "text": [
      "\n",
      "        First Post\n",
      "        By: Brian\n",
      "        This is the very first post. I hope you like it\n",
      "        \n",
      "\n",
      "        Tuesday\n",
      "        By: Travis\n",
      "        Today is Tuesday. Tomorrow is Wednesday. Yesterday was Monday.\n",
      "        \n",
      "\n",
      "        Oop\n",
      "        By: Kevin\n",
      "        This is an example of __str__ vs __repr__ methods\n",
      "        \n"
     ]
    }
   ],
   "source": [
    "for post in blog:\n",
    "    print(post)"
   ]
  },
  {
   "cell_type": "code",
   "execution_count": 60,
   "metadata": {},
   "outputs": [
    {
     "name": "stdout",
     "output_type": "stream",
     "text": [
      "[<HotelRoom | 100>, <HotelRoom | 101>, <HotelRoom | 102>, <HotelRoom | 103>, <HotelRoom | 104>, <HotelRoom | 105>, <HotelRoom | 106>, <HotelRoom | 107>, <HotelRoom | 108>, <HotelRoom | 109>, <HotelRoom | 110>, <HotelRoom | 111>, <HotelRoom | 112>, <HotelRoom | 113>, <HotelRoom | 114>, <HotelRoom | 115>, <HotelRoom | 116>, <HotelRoom | 117>, <HotelRoom | 118>, <HotelRoom | 119>]\n"
     ]
    }
   ],
   "source": [
    "# If the __repr__() is defined but the __str__() is not, then __repr__ is used for the string conversion\n",
    "\n",
    "class HotelRoom:\n",
    "    def __init__(self, room_number):\n",
    "        self.room_number = room_number\n",
    "        self.occupied = False\n",
    "        \n",
    "    def __repr__(self):\n",
    "        return f\"<HotelRoom | {self.room_number}>\"\n",
    "    \n",
    "    \n",
    "hotel = [HotelRoom(x) for x in range(100, 120)]\n",
    "print(hotel)"
   ]
  },
  {
   "cell_type": "code",
   "execution_count": 61,
   "metadata": {
    "scrolled": true
   },
   "outputs": [
    {
     "name": "stdout",
     "output_type": "stream",
     "text": [
      "<HotelRoom | 100>\n",
      "<HotelRoom | 101>\n",
      "<HotelRoom | 102>\n",
      "<HotelRoom | 103>\n",
      "<HotelRoom | 104>\n",
      "<HotelRoom | 105>\n",
      "<HotelRoom | 106>\n",
      "<HotelRoom | 107>\n",
      "<HotelRoom | 108>\n",
      "<HotelRoom | 109>\n",
      "<HotelRoom | 110>\n",
      "<HotelRoom | 111>\n",
      "<HotelRoom | 112>\n",
      "<HotelRoom | 113>\n",
      "<HotelRoom | 114>\n",
      "<HotelRoom | 115>\n",
      "<HotelRoom | 116>\n",
      "<HotelRoom | 117>\n",
      "<HotelRoom | 118>\n",
      "<HotelRoom | 119>\n"
     ]
    }
   ],
   "source": [
    "for room in hotel:\n",
    "    print(room)"
   ]
  },
  {
   "cell_type": "code",
   "execution_count": 62,
   "metadata": {},
   "outputs": [
    {
     "name": "stdout",
     "output_type": "stream",
     "text": [
      "[<__main__.HotelRoom object at 0x00000206C43EEE00>, <__main__.HotelRoom object at 0x00000206C43101C0>, <__main__.HotelRoom object at 0x00000206C4400340>, <__main__.HotelRoom object at 0x00000206C44010C0>, <__main__.HotelRoom object at 0x00000206C4400790>, <__main__.HotelRoom object at 0x00000206C44010F0>, <__main__.HotelRoom object at 0x00000206C4400040>, <__main__.HotelRoom object at 0x00000206C4400C10>, <__main__.HotelRoom object at 0x00000206C4401870>, <__main__.HotelRoom object at 0x00000206C4400A90>, <__main__.HotelRoom object at 0x00000206C4400F70>, <__main__.HotelRoom object at 0x00000206C4401420>, <__main__.HotelRoom object at 0x00000206C4403BE0>, <__main__.HotelRoom object at 0x00000206C44001C0>, <__main__.HotelRoom object at 0x00000206C4401600>, <__main__.HotelRoom object at 0x00000206C44039A0>, <__main__.HotelRoom object at 0x00000206C4403C40>, <__main__.HotelRoom object at 0x00000206C4401330>, <__main__.HotelRoom object at 0x00000206C44009D0>, <__main__.HotelRoom object at 0x00000206C4401210>]\n"
     ]
    }
   ],
   "source": [
    "# The opposite is NOT true!  if __str__ is there but no __repr__, __repr__ != __str__\n",
    "\n",
    "class HotelRoom:\n",
    "    def __init__(self, room_number):\n",
    "        self.room_number = room_number\n",
    "        self.occupied = False\n",
    "        \n",
    "    def __str__(self):\n",
    "        return f\"Room Number: {self.room_number}\\nOccupied: {self.occupied}\"\n",
    "    \n",
    "    \n",
    "hotel = [HotelRoom(x) for x in range(100, 120)]\n",
    "print(hotel)"
   ]
  },
  {
   "cell_type": "code",
   "execution_count": 64,
   "metadata": {},
   "outputs": [
    {
     "name": "stdout",
     "output_type": "stream",
     "text": [
      "Room Number: 100\n",
      "Occupied: False\n",
      "=========================\n",
      "Room Number: 101\n",
      "Occupied: False\n",
      "=========================\n",
      "Room Number: 102\n",
      "Occupied: False\n",
      "=========================\n",
      "Room Number: 103\n",
      "Occupied: False\n",
      "=========================\n",
      "Room Number: 104\n",
      "Occupied: False\n",
      "=========================\n",
      "Room Number: 105\n",
      "Occupied: False\n",
      "=========================\n",
      "Room Number: 106\n",
      "Occupied: False\n",
      "=========================\n",
      "Room Number: 107\n",
      "Occupied: False\n",
      "=========================\n",
      "Room Number: 108\n",
      "Occupied: False\n",
      "=========================\n",
      "Room Number: 109\n",
      "Occupied: False\n",
      "=========================\n",
      "Room Number: 110\n",
      "Occupied: False\n",
      "=========================\n",
      "Room Number: 111\n",
      "Occupied: False\n",
      "=========================\n",
      "Room Number: 112\n",
      "Occupied: False\n",
      "=========================\n",
      "Room Number: 113\n",
      "Occupied: False\n",
      "=========================\n",
      "Room Number: 114\n",
      "Occupied: False\n",
      "=========================\n",
      "Room Number: 115\n",
      "Occupied: False\n",
      "=========================\n",
      "Room Number: 116\n",
      "Occupied: False\n",
      "=========================\n",
      "Room Number: 117\n",
      "Occupied: False\n",
      "=========================\n",
      "Room Number: 118\n",
      "Occupied: False\n",
      "=========================\n",
      "Room Number: 119\n",
      "Occupied: False\n",
      "=========================\n"
     ]
    }
   ],
   "source": [
    "for room in hotel:\n",
    "    print(room)\n",
    "    print('='*25)"
   ]
  },
  {
   "cell_type": "markdown",
   "metadata": {},
   "source": [
    "#### \\__lt\\__(), \\__le\\__(), \\__eq\\__(), etc"
   ]
  },
  {
   "cell_type": "code",
   "execution_count": 139,
   "metadata": {},
   "outputs": [],
   "source": [
    "class Product:\n",
    "    def __init__(self, name, price):\n",
    "        self.name = name\n",
    "        self.price = price\n",
    "        \n",
    "    def __str__(self):\n",
    "        return f\"{self.name}: ${self.price:.2f}\"\n",
    "    \n",
    "    def __repr__(self):\n",
    "        return f\"<Product|{self.name}>\"\n",
    "    \n",
    "    # Method that will be called when the > operator is used\n",
    "    def __gt__(self, other_prod):\n",
    "#         print('Self:', self, 'Other:', other_prod)\n",
    "        if not isinstance(other_prod, Product):\n",
    "            raise TypeError(f\"Can only compare Product to another Product (not {type(other_prod)})\")\n",
    "        else:\n",
    "            return self.price > other_prod.price\n",
    "        \n",
    "    # Method that will be called when the == operator is used\n",
    "    def __eq__(self, other_prod):\n",
    "        if not isinstance(other_prod, Product):\n",
    "            raise TypeError(f\"Can only compare Product to another Product (not {type(other_prod)})\")\n",
    "        else:\n",
    "            return self.name == other_prod.name and self.price == other_prod.price\n",
    "    \n",
    "    \n",
    "p1 = Product('Apple', 1.50)\n",
    "p2 = Product('Banana', .89)\n",
    "p3 = Product('Watermelon', .99)\n",
    "p4 = Product('Peach', 1.33)\n",
    "p5 = Product('Watermelon', 1.50)\n",
    "products = [p1, p2, p3, p4, p5]"
   ]
  },
  {
   "cell_type": "code",
   "execution_count": 140,
   "metadata": {},
   "outputs": [
    {
     "name": "stdout",
     "output_type": "stream",
     "text": [
      "[<Product|Apple>, <Product|Banana>, <Product|Watermelon>, <Product|Peach>, <Product|Watermelon>]\n"
     ]
    }
   ],
   "source": [
    "print(products)"
   ]
  },
  {
   "cell_type": "code",
   "execution_count": 141,
   "metadata": {},
   "outputs": [
    {
     "name": "stdout",
     "output_type": "stream",
     "text": [
      "Apple: $1.50\n",
      "Banana: $0.89\n",
      "Watermelon: $0.99\n",
      "Peach: $1.33\n",
      "Watermelon: $1.50\n"
     ]
    }
   ],
   "source": [
    "for p in products:\n",
    "    print(p)"
   ]
  },
  {
   "cell_type": "code",
   "execution_count": 142,
   "metadata": {},
   "outputs": [
    {
     "ename": "TypeError",
     "evalue": "'>=' not supported between instances of 'Product' and 'Product'",
     "output_type": "error",
     "traceback": [
      "\u001b[1;31m---------------------------------------------------------------------------\u001b[0m",
      "\u001b[1;31mTypeError\u001b[0m                                 Traceback (most recent call last)",
      "Cell \u001b[1;32mIn[142], line 1\u001b[0m\n\u001b[1;32m----> 1\u001b[0m \u001b[38;5;28mprint\u001b[39m(\u001b[43mp1\u001b[49m\u001b[43m \u001b[49m\u001b[38;5;241;43m>\u001b[39;49m\u001b[38;5;241;43m=\u001b[39;49m\u001b[43m \u001b[49m\u001b[43mp2\u001b[49m)\n\u001b[0;32m      2\u001b[0m \u001b[38;5;28mprint\u001b[39m(p2 \u001b[38;5;241m<\u001b[39m p4)\n",
      "\u001b[1;31mTypeError\u001b[0m: '>=' not supported between instances of 'Product' and 'Product'"
     ]
    }
   ],
   "source": [
    "print(p1 >= p2)\n",
    "print(p2 < p4)"
   ]
  },
  {
   "cell_type": "code",
   "execution_count": 143,
   "metadata": {},
   "outputs": [],
   "source": [
    "# p1 > 'abc'"
   ]
  },
  {
   "cell_type": "code",
   "execution_count": 144,
   "metadata": {},
   "outputs": [
    {
     "name": "stdout",
     "output_type": "stream",
     "text": [
      "False\n",
      "False\n",
      "False\n"
     ]
    }
   ],
   "source": [
    "print(p1 == p2)\n",
    "print(p1 == p5)\n",
    "print(p3 == p5)"
   ]
  },
  {
   "cell_type": "markdown",
   "metadata": {},
   "source": [
    "##### \\_\\_add\\_\\_, \\_\\_contains\\_\\_"
   ]
  },
  {
   "cell_type": "code",
   "execution_count": 145,
   "metadata": {},
   "outputs": [],
   "source": [
    "class Measurement:\n",
    "    def __init__(self, feet, inches):\n",
    "        while inches >= 12:\n",
    "            feet += 1\n",
    "            inches -= 12\n",
    "        self.feet = feet\n",
    "        self.inches = inches\n",
    "        \n",
    "    def __str__(self):\n",
    "        return f\"{self.feet} Ft. and {self.inches} In.\"\n",
    "    \n",
    "    def __repr__(self):\n",
    "        return f\"<Measurement|{self.feet}'{self.inches}\\\">\"\n",
    "    \n",
    "    def __add__(self, other):\n",
    "        if not isinstance(other, Measurement):\n",
    "            raise TypeError('+ can only be used with other instances of Measurement')\n",
    "        else:\n",
    "            new_feet = self.feet + other.feet\n",
    "            new_inches = self.inches + other.inches\n",
    "            return Measurement(new_feet, new_inches)\n",
    "        \n",
    "    def __sub__(self, other):\n",
    "        if not isinstance(other, Measurement):\n",
    "            raise TypeError('- can only be used with other instances of Measurement')\n",
    "        new_feet = self.feet - other.feet\n",
    "        new_inches = self.inches - other.inches\n",
    "        while new_inches <= 0:\n",
    "            new_feet -= 1\n",
    "            new_inches += 12\n",
    "        return Measurement(new_feet, new_inches)\n",
    "    \n",
    "\n",
    "m1 = Measurement(10, 3)\n",
    "m2 = Measurement(12, 8)\n",
    "m3 = Measurement(3, 11)\n",
    "m4 = Measurement(9, 10)\n",
    "m5 = Measurement(7, 1)\n",
    "m6 = Measurement(4, 39)"
   ]
  },
  {
   "cell_type": "code",
   "execution_count": 146,
   "metadata": {},
   "outputs": [
    {
     "name": "stdout",
     "output_type": "stream",
     "text": [
      "10 Ft. and 3 In.\n",
      "12 Ft. and 8 In.\n",
      "3 Ft. and 11 In.\n",
      "9 Ft. and 10 In.\n",
      "7 Ft. and 1 In.\n",
      "7 Ft. and 3 In.\n"
     ]
    }
   ],
   "source": [
    "print(m1)\n",
    "print(m2)\n",
    "print(m3)\n",
    "print(m4)\n",
    "print(m5)\n",
    "print(m6)"
   ]
  },
  {
   "cell_type": "code",
   "execution_count": 147,
   "metadata": {},
   "outputs": [
    {
     "data": {
      "text/plain": [
       "<Measurement|22'11\">"
      ]
     },
     "execution_count": 147,
     "metadata": {},
     "output_type": "execute_result"
    }
   ],
   "source": [
    "m1 + m2"
   ]
  },
  {
   "cell_type": "code",
   "execution_count": 148,
   "metadata": {},
   "outputs": [
    {
     "data": {
      "text/plain": [
       "<Measurement|14'2\">"
      ]
     },
     "execution_count": 148,
     "metadata": {},
     "output_type": "execute_result"
    }
   ],
   "source": [
    "m1 + m3"
   ]
  },
  {
   "cell_type": "code",
   "execution_count": 149,
   "metadata": {},
   "outputs": [
    {
     "data": {
      "text/plain": [
       "<Measurement|2'5\">"
      ]
     },
     "execution_count": 149,
     "metadata": {},
     "output_type": "execute_result"
    }
   ],
   "source": [
    "m2 - m1"
   ]
  },
  {
   "cell_type": "code",
   "execution_count": 150,
   "metadata": {},
   "outputs": [
    {
     "data": {
      "text/plain": [
       "<Measurement|8'9\">"
      ]
     },
     "execution_count": 150,
     "metadata": {},
     "output_type": "execute_result"
    }
   ],
   "source": [
    "m2 - m3"
   ]
  },
  {
   "cell_type": "code",
   "execution_count": 151,
   "metadata": {},
   "outputs": [
    {
     "name": "stdout",
     "output_type": "stream",
     "text": [
      "Apple: $1.50 has been added\n",
      "Banana: $0.89 has been added\n",
      "Watermelon: $0.99 has been added\n",
      "Peach: $1.33 has been added\n",
      "Apple: $1.50\n",
      "Banana: $0.89\n",
      "Watermelon: $0.99\n",
      "Peach: $1.33\n"
     ]
    }
   ],
   "source": [
    "class Cart:\n",
    "    def __init__(self, customer_name):\n",
    "        self.customer_name = customer_name\n",
    "        self.products = []\n",
    "        \n",
    "    def add(self, product):\n",
    "        self.products.append(product)\n",
    "        print(f\"{product} has been added\")\n",
    "        \n",
    "    def remove(self, item):\n",
    "        self.products.remove(product)\n",
    "        print(f\"{product} has been removed\")\n",
    "        \n",
    "    def show(self):\n",
    "        for product in self.products:\n",
    "            print(product)\n",
    "            \n",
    "    def __contains__(self, item):\n",
    "        for product in self.products:\n",
    "            if product == item:\n",
    "                return True\n",
    "        return False\n",
    "        \n",
    "            \n",
    "            \n",
    "            \n",
    "            \n",
    "c = Cart('Brian')\n",
    "\n",
    "c.add(p1)\n",
    "c.add(p2)\n",
    "c.add(p3)\n",
    "c.add(p4)\n",
    "c.show()"
   ]
  },
  {
   "cell_type": "code",
   "execution_count": 152,
   "metadata": {},
   "outputs": [
    {
     "data": {
      "text/plain": [
       "True"
      ]
     },
     "execution_count": 152,
     "metadata": {},
     "output_type": "execute_result"
    }
   ],
   "source": [
    "p1 in c"
   ]
  },
  {
   "cell_type": "code",
   "execution_count": 153,
   "metadata": {},
   "outputs": [
    {
     "data": {
      "text/plain": [
       "False"
      ]
     },
     "execution_count": 153,
     "metadata": {},
     "output_type": "execute_result"
    }
   ],
   "source": [
    "p5 in c"
   ]
  },
  {
   "cell_type": "markdown",
   "metadata": {},
   "source": [
    "#### In-class Exercise 1"
   ]
  },
  {
   "cell_type": "code",
   "execution_count": 157,
   "metadata": {},
   "outputs": [
    {
     "name": "stdout",
     "output_type": "stream",
     "text": [
      "Leo the Lion\n",
      "Buddy the Dog\n",
      "[<Animal|Lion>, <Animal|Dog>]\n"
     ]
    }
   ],
   "source": [
    "# Create a class Animal that displays the name and species when printed\n",
    "\n",
    "class Animal:\n",
    "    def __init__(self, name, species):\n",
    "        self.name = name.title()\n",
    "        self.species = species\n",
    "        \n",
    "    def __str__(self):\n",
    "        return f\"{self.name} the {self.species.title()}\"\n",
    "    \n",
    "    def __repr__(self):\n",
    "        return f\"<Animal|{self.species.title()}>\"\n",
    "\n",
    "\n",
    "leo = Animal('Leo', 'lion')\n",
    "\n",
    "print(leo) # Leo the Lion\n",
    "\n",
    "\n",
    "buddy = Animal('Buddy', 'dog')\n",
    "print(buddy) # Buddy the Dog\n",
    "\n",
    "\n",
    "animals = [leo, buddy]\n",
    "print(animals) # [<Animal|Lion>, <Animal|Dog>]"
   ]
  },
  {
   "cell_type": "markdown",
   "metadata": {},
   "source": [
    "## Inheritance <br>\n",
    "<p>You can create a child-parent relationship between two classes by using inheritance. What this allows you to do is have overriding methods, but also inherit traits from the parent class. Think of it as an actual parent and child, the child will inherit the parent's genes, as will the classes in OOP</p>"
   ]
  },
  {
   "cell_type": "markdown",
   "metadata": {},
   "source": [
    "##### Syntax for Inheriting from a Parent Class"
   ]
  },
  {
   "cell_type": "code",
   "execution_count": 158,
   "metadata": {},
   "outputs": [
    {
     "name": "stdout",
     "output_type": "stream",
     "text": [
      "Length: 10 x Width: 20\n"
     ]
    },
    {
     "data": {
      "text/plain": [
       "200"
      ]
     },
     "execution_count": 158,
     "metadata": {},
     "output_type": "execute_result"
    }
   ],
   "source": [
    "# Syntax: class Child(Parent):\n",
    "\n",
    "class Rectangle: # Parent Class\n",
    "    sides = 4\n",
    "    \n",
    "    def __init__(self, length, width):\n",
    "        self.length = length\n",
    "        self.width = width\n",
    "        \n",
    "    def __str__(self):\n",
    "        return f\"Length: {self.length} x Width: {self.width}\"\n",
    "    \n",
    "    def area(self):\n",
    "        return self.length * self.width\n",
    "    \n",
    "    \n",
    "my_rectangle = Rectangle(10, 20)\n",
    "print(my_rectangle)\n",
    "my_rectangle.area()"
   ]
  },
  {
   "cell_type": "code",
   "execution_count": 161,
   "metadata": {},
   "outputs": [
    {
     "name": "stdout",
     "output_type": "stream",
     "text": [
      "Help on class Rectangle in module __main__:\n",
      "\n",
      "class Rectangle(builtins.object)\n",
      " |  Rectangle(length, width)\n",
      " |  \n",
      " |  Methods defined here:\n",
      " |  \n",
      " |  __init__(self, length, width)\n",
      " |      Initialize self.  See help(type(self)) for accurate signature.\n",
      " |  \n",
      " |  __str__(self)\n",
      " |      Return str(self).\n",
      " |  \n",
      " |  area(self)\n",
      " |  \n",
      " |  ----------------------------------------------------------------------\n",
      " |  Data descriptors defined here:\n",
      " |  \n",
      " |  __dict__\n",
      " |      dictionary for instance variables (if defined)\n",
      " |  \n",
      " |  __weakref__\n",
      " |      list of weak references to the object (if defined)\n",
      " |  \n",
      " |  ----------------------------------------------------------------------\n",
      " |  Data and other attributes defined here:\n",
      " |  \n",
      " |  sides = 4\n",
      "\n"
     ]
    }
   ],
   "source": [
    "help(Rectangle)"
   ]
  },
  {
   "cell_type": "code",
   "execution_count": 159,
   "metadata": {},
   "outputs": [],
   "source": [
    "class Square(Rectangle): # Child Class\n",
    "    pass"
   ]
  },
  {
   "cell_type": "code",
   "execution_count": 160,
   "metadata": {},
   "outputs": [
    {
     "name": "stdout",
     "output_type": "stream",
     "text": [
      "Help on class Square in module __main__:\n",
      "\n",
      "class Square(Rectangle)\n",
      " |  Square(length, width)\n",
      " |  \n",
      " |  Method resolution order:\n",
      " |      Square\n",
      " |      Rectangle\n",
      " |      builtins.object\n",
      " |  \n",
      " |  Methods inherited from Rectangle:\n",
      " |  \n",
      " |  __init__(self, length, width)\n",
      " |      Initialize self.  See help(type(self)) for accurate signature.\n",
      " |  \n",
      " |  __str__(self)\n",
      " |      Return str(self).\n",
      " |  \n",
      " |  area(self)\n",
      " |  \n",
      " |  ----------------------------------------------------------------------\n",
      " |  Data descriptors inherited from Rectangle:\n",
      " |  \n",
      " |  __dict__\n",
      " |      dictionary for instance variables (if defined)\n",
      " |  \n",
      " |  __weakref__\n",
      " |      list of weak references to the object (if defined)\n",
      " |  \n",
      " |  ----------------------------------------------------------------------\n",
      " |  Data and other attributes inherited from Rectangle:\n",
      " |  \n",
      " |  sides = 4\n",
      "\n"
     ]
    }
   ],
   "source": [
    "help(Square)"
   ]
  },
  {
   "cell_type": "code",
   "execution_count": 165,
   "metadata": {},
   "outputs": [
    {
     "name": "stdout",
     "output_type": "stream",
     "text": [
      "Length: 10 x Width: 10\n",
      "100\n",
      "My square has 4 sides\n"
     ]
    }
   ],
   "source": [
    "my_square = Square(10, 10)\n",
    "print(my_square)\n",
    "print(my_square.area())\n",
    "print(f\"My square has {my_square.sides} sides\")"
   ]
  },
  {
   "cell_type": "markdown",
   "metadata": {},
   "source": [
    "##### The \\__init\\__() Method for a Child Class - super()"
   ]
  },
  {
   "cell_type": "code",
   "execution_count": 181,
   "metadata": {
    "scrolled": true
   },
   "outputs": [],
   "source": [
    "class Rectangle: # Parent Class\n",
    "    sides = 4\n",
    "    \n",
    "    def __init__(self, length, width):\n",
    "        self.length = length\n",
    "        self.width = width\n",
    "        self.border_color = 'black'\n",
    "        self.border_width = '2px'\n",
    "        self.background_color = 'white'\n",
    "        \n",
    "    def __str__(self):\n",
    "        return f\"Length: {self.length} x Width: {self.width}\\nWith a {self.border_width} {self.border_color} border and {self.background_color} background\"\n",
    "    \n",
    "    def area(self):\n",
    "        return self.length * self.width\n",
    "    \n",
    "class Square(Rectangle):\n",
    "    def __init__(self, side):\n",
    "        super().__init__(side, side)\n",
    "        "
   ]
  },
  {
   "cell_type": "code",
   "execution_count": 182,
   "metadata": {},
   "outputs": [
    {
     "name": "stdout",
     "output_type": "stream",
     "text": [
      "Length: 10 x Width: 20\n",
      "With a 2px black border and white background\n",
      "200\n",
      "My rectangle has 4 sides.\n"
     ]
    }
   ],
   "source": [
    "my_rectangle = Rectangle(10, 20)\n",
    "print(my_rectangle)\n",
    "print(my_rectangle.area())\n",
    "print(f\"My rectangle has {my_rectangle.sides} sides.\")"
   ]
  },
  {
   "cell_type": "code",
   "execution_count": 183,
   "metadata": {},
   "outputs": [
    {
     "name": "stdout",
     "output_type": "stream",
     "text": [
      "Length: 8 x Width: 8\n",
      "With a 2px black border and white background\n",
      "64\n",
      "My square has 4 sides\n"
     ]
    }
   ],
   "source": [
    "# help(Square)\n",
    "\n",
    "new_square = Square(8)\n",
    "print(new_square)\n",
    "print(new_square.area())\n",
    "print(f'My square has {new_square.sides} sides')"
   ]
  },
  {
   "cell_type": "code",
   "execution_count": 185,
   "metadata": {
    "scrolled": false
   },
   "outputs": [],
   "source": [
    "class Triangle(Rectangle):\n",
    "    sides = 3 # Override the class attribute from Rectangle\n",
    "    \n",
    "    def __init__(self, base, height, style='right'):\n",
    "        super().__init__(base, height)\n",
    "        self.style = style\n",
    "        \n",
    "    # Override the Rectangle's area method - but still use the Rectangle's area method and then cut in half\n",
    "    def area(self):\n",
    "        # Call the Rectangle's area method\n",
    "        rectangle_area = super().area()\n",
    "        return rectangle_area / 2\n",
    "    \n",
    "# help(Triangle)"
   ]
  },
  {
   "cell_type": "code",
   "execution_count": 189,
   "metadata": {},
   "outputs": [
    {
     "name": "stdout",
     "output_type": "stream",
     "text": [
      "Length: 10 x Width: 20\n",
      "With a 2px black border and white background\n",
      "My triangle has 3 sides.\n",
      "100.0\n"
     ]
    }
   ],
   "source": [
    "my_tri = Triangle(10, 20)\n",
    "print(my_tri)\n",
    "print(f'My triangle has {my_tri.sides} sides.')\n",
    "print(my_tri.area())"
   ]
  },
  {
   "cell_type": "code",
   "execution_count": 190,
   "metadata": {},
   "outputs": [],
   "source": [
    "class Animal:\n",
    "    def __init__(self, name, species):\n",
    "        self.name = name\n",
    "        self.species = species\n",
    "        \n",
    "    def __str__(self):\n",
    "        return f\"{self.name} the {self.species}\"\n",
    "    \n",
    "    def eat(self):\n",
    "        print(f\"{self} is eating\")\n",
    "        \n",
    "    def sleep(self):\n",
    "        print(f\"{self} is sleeping\")\n",
    "        \n",
    "    def play(self):\n",
    "        print(f\"{self} is playing\")"
   ]
  },
  {
   "cell_type": "code",
   "execution_count": 191,
   "metadata": {},
   "outputs": [
    {
     "name": "stdout",
     "output_type": "stream",
     "text": [
      "John Doe the Generic\n",
      "John Doe the Generic is eating\n",
      "John Doe the Generic is sleeping\n",
      "John Doe the Generic is playing\n"
     ]
    }
   ],
   "source": [
    "generic = Animal('John Doe', 'Generic')\n",
    "print(generic)\n",
    "generic.eat()\n",
    "generic.sleep()\n",
    "generic.play()"
   ]
  },
  {
   "cell_type": "code",
   "execution_count": 192,
   "metadata": {},
   "outputs": [],
   "source": [
    "class Fish(Animal):\n",
    "    def __init__(self, name):\n",
    "        super().__init__(name, 'Fish')\n",
    "        \n",
    "    def swim(self):\n",
    "        print(f\"{self} is swimming\")\n",
    "        \n",
    "class Bird(Animal):\n",
    "    def __init__(self, name):\n",
    "        super().__init__(name, 'Bird')\n",
    "        \n",
    "    def fly(self):\n",
    "        print(f\"{self} is flying\")\n",
    "        \n",
    "class Lion(Animal):\n",
    "    def __init__(self, name):\n",
    "        super().__init__(name, 'Lion')\n",
    "        \n",
    "    def hunt(self):\n",
    "        print(f\"{self} is hunting\")"
   ]
  },
  {
   "cell_type": "code",
   "execution_count": 193,
   "metadata": {},
   "outputs": [],
   "source": [
    "nemo = Fish('Nemo')\n",
    "zazu = Bird('Zazu')\n",
    "simba = Lion('Simba')\n",
    "\n",
    "animals = [nemo, zazu, simba]"
   ]
  },
  {
   "cell_type": "code",
   "execution_count": 201,
   "metadata": {},
   "outputs": [
    {
     "name": "stdout",
     "output_type": "stream",
     "text": [
      "Nemo the Fish is eating\n",
      "Nemo the Fish is sleeping\n",
      "Nemo the Fish is playing\n",
      "Zazu the Bird is eating\n",
      "Zazu the Bird is sleeping\n",
      "Zazu the Bird is playing\n",
      "Simba the Lion is eating\n",
      "Simba the Lion is sleeping\n",
      "Simba the Lion is playing\n"
     ]
    }
   ],
   "source": [
    "for animal in animals:\n",
    "#     print(animal)\n",
    "    animal.eat()\n",
    "    animal.sleep()\n",
    "    animal.play()\n",
    "#     animal.swim()"
   ]
  },
  {
   "cell_type": "code",
   "execution_count": null,
   "metadata": {},
   "outputs": [],
   "source": []
  },
  {
   "cell_type": "markdown",
   "metadata": {},
   "source": [
    "#### In-class Exercise 2"
   ]
  },
  {
   "cell_type": "markdown",
   "metadata": {},
   "source": [
    "Create a Car class that has a drive and fill up method, and then create a Ford class that inherits from the Car class. *Bonus* Create a Toyota Class that inherits from Car class and also a Tesla class that inherits from Car class but overrides the fill up"
   ]
  },
  {
   "cell_type": "code",
   "execution_count": 206,
   "metadata": {},
   "outputs": [
    {
     "name": "stdout",
     "output_type": "stream",
     "text": [
      "Ford\n",
      "Blue Ford Focus is driving\n",
      "Filling up the Blue Ford Focus\n",
      "Red Toyota Camry is driving\n",
      "Filling up the Red Toyota Camry\n",
      "Gray Tesla Model X is driving\n",
      "Gray Tesla Model X is charging...\n"
     ]
    }
   ],
   "source": [
    "class Car:\n",
    "    def __init__(self, color, make, model):\n",
    "        self.color = color\n",
    "        self.make = make\n",
    "        self.model = model\n",
    "        \n",
    "    def __str__(self):\n",
    "         return f\"{self.color} {self.make} {self.model}\".title()\n",
    "        \n",
    "    def drive(self):\n",
    "        print(f\"{self} is driving\")\n",
    "        \n",
    "    def fill_up(self):\n",
    "        print(f\"Filling up the {self}\")\n",
    "        \n",
    "        \n",
    "class Ford(Car):\n",
    "    \n",
    "    def __init__(self, color, model):\n",
    "        super().__init__(color, 'Ford', model)\n",
    "\n",
    "class Toyota(Car):\n",
    "    \n",
    "    def __init__(self, color, model):\n",
    "        super().__init__(color, 'Toyota', model)\n",
    "        \n",
    "        \n",
    "class Tesla(Car):\n",
    "    \n",
    "    def __init__(self, color, model):\n",
    "        super().__init__(color, 'Tesla', model)\n",
    "        \n",
    "    def fill_up(self):\n",
    "        print(f'{self} is charging...')\n",
    "\n",
    "\n",
    "my_car = Ford('blue', 'Focus')\n",
    "print(my_car.make) # 'Ford'\n",
    "my_car.drive() # 'blue Ford Focus is driving'\n",
    "my_car.fill_up() # 'Filling up blue Ford Focus'\n",
    "\n",
    "\n",
    "my_other_car = Toyota('red', 'Camry')\n",
    "my_other_car.drive() # 'red Toyota Camry is driving'\n",
    "my_other_car.fill_up() # 'Filling up red Toyota Camry'\n",
    "\n",
    "\n",
    "my_electric_car = Tesla('gray', 'Model X')\n",
    "my_electric_car.drive() # 'gray Tesla Model X is driving' \n",
    "my_electric_car.fill_up() # 'gray Tesla Model X is charging...'"
   ]
  },
  {
   "cell_type": "code",
   "execution_count": 209,
   "metadata": {},
   "outputs": [
    {
     "name": "stdout",
     "output_type": "stream",
     "text": [
      "Ford\n",
      "Blue Ford Focus is driving\n",
      "Filling up the Blue Ford Focus\n"
     ]
    }
   ],
   "source": [
    "class Ford(Car):\n",
    "    make='Ford'\n",
    "    def __init__(self, color, model):\n",
    "        super().__init__(color, Ford.make, model)\n",
    "        \n",
    "        \n",
    "my_car = Ford('blue', 'Focus')\n",
    "print(my_car.make) # 'Ford'\n",
    "my_car.drive() # 'blue Ford Focus is driving'\n",
    "my_car.fill_up() # 'Filling up blue Ford Focus'"
   ]
  },
  {
   "cell_type": "markdown",
   "metadata": {},
   "source": [
    "## Modules"
   ]
  },
  {
   "cell_type": "markdown",
   "metadata": {},
   "source": [
    "##### Importing Entire Modules"
   ]
  },
  {
   "cell_type": "code",
   "execution_count": 211,
   "metadata": {},
   "outputs": [
    {
     "name": "stdout",
     "output_type": "stream",
     "text": [
      "<module 'math' (built-in)>\n"
     ]
    }
   ],
   "source": [
    "# import name_of_module\n",
    "\n",
    "import math\n",
    "\n",
    "print(math)\n"
   ]
  },
  {
   "cell_type": "code",
   "execution_count": 213,
   "metadata": {},
   "outputs": [
    {
     "data": {
      "text/plain": [
       "120"
      ]
     },
     "execution_count": 213,
     "metadata": {},
     "output_type": "execute_result"
    }
   ],
   "source": [
    "# Syntax for accessing functions, classes, constants, etc.\n",
    "# module_name.var_name\n",
    "\n",
    "math.factorial(5)"
   ]
  },
  {
   "cell_type": "code",
   "execution_count": 214,
   "metadata": {},
   "outputs": [
    {
     "name": "stdout",
     "output_type": "stream",
     "text": [
      "10.0\n"
     ]
    }
   ],
   "source": [
    "print(math.sqrt(100))"
   ]
  },
  {
   "cell_type": "code",
   "execution_count": 215,
   "metadata": {},
   "outputs": [
    {
     "name": "stdout",
     "output_type": "stream",
     "text": [
      "3.141592653589793\n"
     ]
    }
   ],
   "source": [
    "print(math.pi)"
   ]
  },
  {
   "cell_type": "code",
   "execution_count": 216,
   "metadata": {},
   "outputs": [
    {
     "data": {
      "text/plain": [
       "62.83185307179586"
      ]
     },
     "execution_count": 216,
     "metadata": {},
     "output_type": "execute_result"
    }
   ],
   "source": [
    "def get_circumference(radius):\n",
    "    return 2 * math.pi * radius\n",
    "\n",
    "get_circumference(10)"
   ]
  },
  {
   "cell_type": "code",
   "execution_count": 220,
   "metadata": {},
   "outputs": [],
   "source": [
    "# Must include module_name in order to access variabes if importing entire module\n",
    "\n",
    "# print(pi)\n",
    "# print(sqrt(100))\n",
    "# print(factorial(5))"
   ]
  },
  {
   "cell_type": "markdown",
   "metadata": {},
   "source": [
    "##### Importing Methods Only"
   ]
  },
  {
   "cell_type": "code",
   "execution_count": 222,
   "metadata": {},
   "outputs": [
    {
     "name": "stdout",
     "output_type": "stream",
     "text": [
      "<function mean at 0x00000206C6CC01F0>\n",
      "<function mode at 0x00000206C6CC3880>\n"
     ]
    }
   ],
   "source": [
    "# from module_name import class, function, constant, etc.\n",
    "\n",
    "from statistics import mean, mode\n",
    "\n",
    "print(mean)\n",
    "print(mode)"
   ]
  },
  {
   "cell_type": "code",
   "execution_count": 226,
   "metadata": {},
   "outputs": [],
   "source": [
    "# When importing parts of a module, we DO NOT have access to module name and other methods from there\n",
    "# print(statistics)\n",
    "# print(statistics.mean)\n",
    "# print(statistics.mode)\n",
    "# NameError: name 'statistics' is not defined "
   ]
  },
  {
   "cell_type": "code",
   "execution_count": 229,
   "metadata": {},
   "outputs": [
    {
     "name": "stdout",
     "output_type": "stream",
     "text": [
      "94.5\n",
      "99\n"
     ]
    }
   ],
   "source": [
    "my_scores = [99, 94, 95, 93, 97, 99, 99, 91, 92, 95, 90, 90]\n",
    "\n",
    "print(mean(my_scores))\n",
    "print(mode(my_scores))"
   ]
  },
  {
   "cell_type": "markdown",
   "metadata": {},
   "source": [
    "##### Using the 'as' Keyword"
   ]
  },
  {
   "cell_type": "code",
   "execution_count": 230,
   "metadata": {},
   "outputs": [
    {
     "name": "stdout",
     "output_type": "stream",
     "text": [
      "<bound method Random.randint of <random.Random object at 0x00000206BFF7D3A0>>\n"
     ]
    }
   ],
   "source": [
    "# from module import function as f\n",
    "from random import randint as ri\n",
    "\n",
    "print(ri)\n"
   ]
  },
  {
   "cell_type": "code",
   "execution_count": 242,
   "metadata": {},
   "outputs": [
    {
     "name": "stdout",
     "output_type": "stream",
     "text": [
      "6\n"
     ]
    }
   ],
   "source": [
    "print(ri(1, 10))"
   ]
  },
  {
   "cell_type": "code",
   "execution_count": 243,
   "metadata": {},
   "outputs": [
    {
     "ename": "NameError",
     "evalue": "name 'randint' is not defined",
     "output_type": "error",
     "traceback": [
      "\u001b[1;31m---------------------------------------------------------------------------\u001b[0m",
      "\u001b[1;31mNameError\u001b[0m                                 Traceback (most recent call last)",
      "Cell \u001b[1;32mIn[243], line 1\u001b[0m\n\u001b[1;32m----> 1\u001b[0m \u001b[38;5;28mprint\u001b[39m(\u001b[43mrandint\u001b[49m(\u001b[38;5;241m1\u001b[39m,\u001b[38;5;241m10\u001b[39m))\n",
      "\u001b[1;31mNameError\u001b[0m: name 'randint' is not defined"
     ]
    }
   ],
   "source": [
    "print(randint(1,10))"
   ]
  },
  {
   "cell_type": "code",
   "execution_count": 244,
   "metadata": {},
   "outputs": [
    {
     "name": "stdout",
     "output_type": "stream",
     "text": [
      "<module 'collections' from 'C:\\\\Users\\\\bstan\\\\anaconda3\\\\lib\\\\collections\\\\__init__.py'>\n"
     ]
    }
   ],
   "source": [
    "# import module as new_name\n",
    "import collections as col\n",
    "\n",
    "print(col)"
   ]
  },
  {
   "cell_type": "code",
   "execution_count": 246,
   "metadata": {},
   "outputs": [
    {
     "name": "stdout",
     "output_type": "stream",
     "text": [
      "Counter({' ': 13, 'e': 6, 'o': 6, 't': 6, 'n': 5, 'i': 4, 'l': 3, 'a': 3, 'r': 3, 'g': 3, 'h': 3, 'w': 2, 'c': 2, 's': 2, 'H': 1, 'u': 1, 'm': 1, 'y': 1, 'f': 1})\n"
     ]
    }
   ],
   "source": [
    "col.Counter\n",
    "\n",
    "letter_count = col.Counter('Hello we are going to count how many of each letter in this string')\n",
    "\n",
    "print(letter_count)"
   ]
  },
  {
   "cell_type": "code",
   "execution_count": null,
   "metadata": {},
   "outputs": [],
   "source": [
    "# import numpy as np\n",
    "# import pandas as pd\n",
    "# import matplotlib.pyplot as plt"
   ]
  },
  {
   "cell_type": "code",
   "execution_count": 247,
   "metadata": {},
   "outputs": [
    {
     "name": "stdout",
     "output_type": "stream",
     "text": [
      "The example.py file has been executed\n"
     ]
    }
   ],
   "source": [
    "# Using VS Code\n",
    "import example"
   ]
  },
  {
   "cell_type": "code",
   "execution_count": 249,
   "metadata": {},
   "outputs": [
    {
     "name": "stdout",
     "output_type": "stream",
     "text": [
      "Hello Brian, how are you?\n"
     ]
    }
   ],
   "source": [
    "example.greet('brian')"
   ]
  },
  {
   "cell_type": "code",
   "execution_count": 250,
   "metadata": {},
   "outputs": [
    {
     "name": "stdout",
     "output_type": "stream",
     "text": [
      "Hello Travis, how are you?\n"
     ]
    }
   ],
   "source": [
    "example.greet('travis')"
   ]
  },
  {
   "cell_type": "code",
   "execution_count": 251,
   "metadata": {},
   "outputs": [
    {
     "name": "stdout",
     "output_type": "stream",
     "text": [
      "Goodbye Brian, it was a pleasure seeing you.\n"
     ]
    }
   ],
   "source": [
    "example.leave('brian')"
   ]
  },
  {
   "cell_type": "code",
   "execution_count": 252,
   "metadata": {},
   "outputs": [
    {
     "name": "stdout",
     "output_type": "stream",
     "text": [
      "Goodbye Travis, it was a pleasure seeing you.\n"
     ]
    }
   ],
   "source": [
    "example.leave('travis')"
   ]
  },
  {
   "cell_type": "code",
   "execution_count": 1,
   "metadata": {},
   "outputs": [
    {
     "name": "stdout",
     "output_type": "stream",
     "text": [
      "The example.py file has been executed\n"
     ]
    }
   ],
   "source": [
    "from example import greet, leave"
   ]
  },
  {
   "cell_type": "code",
   "execution_count": 2,
   "metadata": {},
   "outputs": [
    {
     "name": "stdout",
     "output_type": "stream",
     "text": [
      "Hello Brian, how are you?\n"
     ]
    }
   ],
   "source": [
    "greet('brian')"
   ]
  },
  {
   "cell_type": "code",
   "execution_count": 3,
   "metadata": {},
   "outputs": [
    {
     "name": "stdout",
     "output_type": "stream",
     "text": [
      "Goodbye Brian, it was a pleasure seeing you.\n"
     ]
    }
   ],
   "source": [
    "leave('brian')"
   ]
  }
 ],
 "metadata": {
  "kernelspec": {
   "display_name": "Python 3 (ipykernel)",
   "language": "python",
   "name": "python3"
  },
  "language_info": {
   "codemirror_mode": {
    "name": "ipython",
    "version": 3
   },
   "file_extension": ".py",
   "mimetype": "text/x-python",
   "name": "python",
   "nbconvert_exporter": "python",
   "pygments_lexer": "ipython3",
   "version": "3.10.9"
  }
 },
 "nbformat": 4,
 "nbformat_minor": 2
}
